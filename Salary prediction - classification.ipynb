{
 "cells": [
  {
   "cell_type": "markdown",
   "metadata": {},
   "source": [
    "# Salary prediction\n",
    "\n",
    "This project uses multiple machine learning models for classification and compares their scores. Throughout the project I inspected each feature and handled it in the way I assumed was appropriate. In that way, the preprocessing of the data consists of data cleaning and analysis, including some visualizations.\n",
    "\n",
    "\n",
    "The dataset can be found on [Kaggle](https://www.kaggle.com/datasets/ayessa/salary-prediction-classification)."
   ]
  },
  {
   "cell_type": "code",
   "execution_count": 33,
   "metadata": {},
   "outputs": [
    {
     "data": {
      "text/html": [
       "<div>\n",
       "<style scoped>\n",
       "    .dataframe tbody tr th:only-of-type {\n",
       "        vertical-align: middle;\n",
       "    }\n",
       "\n",
       "    .dataframe tbody tr th {\n",
       "        vertical-align: top;\n",
       "    }\n",
       "\n",
       "    .dataframe thead th {\n",
       "        text-align: right;\n",
       "    }\n",
       "</style>\n",
       "<table border=\"1\" class=\"dataframe\">\n",
       "  <thead>\n",
       "    <tr style=\"text-align: right;\">\n",
       "      <th></th>\n",
       "      <th>age</th>\n",
       "      <th>workclass</th>\n",
       "      <th>fnlwgt</th>\n",
       "      <th>education</th>\n",
       "      <th>education-num</th>\n",
       "      <th>marital-status</th>\n",
       "      <th>occupation</th>\n",
       "      <th>relationship</th>\n",
       "      <th>race</th>\n",
       "      <th>sex</th>\n",
       "      <th>capital-gain</th>\n",
       "      <th>capital-loss</th>\n",
       "      <th>hours-per-week</th>\n",
       "      <th>native-country</th>\n",
       "      <th>salary</th>\n",
       "    </tr>\n",
       "  </thead>\n",
       "  <tbody>\n",
       "    <tr>\n",
       "      <th>0</th>\n",
       "      <td>39</td>\n",
       "      <td>State-gov</td>\n",
       "      <td>77516</td>\n",
       "      <td>Bachelors</td>\n",
       "      <td>13</td>\n",
       "      <td>Never-married</td>\n",
       "      <td>Adm-clerical</td>\n",
       "      <td>Not-in-family</td>\n",
       "      <td>White</td>\n",
       "      <td>Male</td>\n",
       "      <td>2174</td>\n",
       "      <td>0</td>\n",
       "      <td>40</td>\n",
       "      <td>United-States</td>\n",
       "      <td>&lt;=50K</td>\n",
       "    </tr>\n",
       "    <tr>\n",
       "      <th>1</th>\n",
       "      <td>50</td>\n",
       "      <td>Self-emp-not-inc</td>\n",
       "      <td>83311</td>\n",
       "      <td>Bachelors</td>\n",
       "      <td>13</td>\n",
       "      <td>Married-civ-spouse</td>\n",
       "      <td>Exec-managerial</td>\n",
       "      <td>Husband</td>\n",
       "      <td>White</td>\n",
       "      <td>Male</td>\n",
       "      <td>0</td>\n",
       "      <td>0</td>\n",
       "      <td>13</td>\n",
       "      <td>United-States</td>\n",
       "      <td>&lt;=50K</td>\n",
       "    </tr>\n",
       "    <tr>\n",
       "      <th>2</th>\n",
       "      <td>38</td>\n",
       "      <td>Private</td>\n",
       "      <td>215646</td>\n",
       "      <td>HS-grad</td>\n",
       "      <td>9</td>\n",
       "      <td>Divorced</td>\n",
       "      <td>Handlers-cleaners</td>\n",
       "      <td>Not-in-family</td>\n",
       "      <td>White</td>\n",
       "      <td>Male</td>\n",
       "      <td>0</td>\n",
       "      <td>0</td>\n",
       "      <td>40</td>\n",
       "      <td>United-States</td>\n",
       "      <td>&lt;=50K</td>\n",
       "    </tr>\n",
       "    <tr>\n",
       "      <th>3</th>\n",
       "      <td>53</td>\n",
       "      <td>Private</td>\n",
       "      <td>234721</td>\n",
       "      <td>11th</td>\n",
       "      <td>7</td>\n",
       "      <td>Married-civ-spouse</td>\n",
       "      <td>Handlers-cleaners</td>\n",
       "      <td>Husband</td>\n",
       "      <td>Black</td>\n",
       "      <td>Male</td>\n",
       "      <td>0</td>\n",
       "      <td>0</td>\n",
       "      <td>40</td>\n",
       "      <td>United-States</td>\n",
       "      <td>&lt;=50K</td>\n",
       "    </tr>\n",
       "    <tr>\n",
       "      <th>4</th>\n",
       "      <td>28</td>\n",
       "      <td>Private</td>\n",
       "      <td>338409</td>\n",
       "      <td>Bachelors</td>\n",
       "      <td>13</td>\n",
       "      <td>Married-civ-spouse</td>\n",
       "      <td>Prof-specialty</td>\n",
       "      <td>Wife</td>\n",
       "      <td>Black</td>\n",
       "      <td>Female</td>\n",
       "      <td>0</td>\n",
       "      <td>0</td>\n",
       "      <td>40</td>\n",
       "      <td>Cuba</td>\n",
       "      <td>&lt;=50K</td>\n",
       "    </tr>\n",
       "  </tbody>\n",
       "</table>\n",
       "</div>"
      ],
      "text/plain": [
       "   age          workclass  fnlwgt   education  education-num  \\\n",
       "0   39          State-gov   77516   Bachelors             13   \n",
       "1   50   Self-emp-not-inc   83311   Bachelors             13   \n",
       "2   38            Private  215646     HS-grad              9   \n",
       "3   53            Private  234721        11th              7   \n",
       "4   28            Private  338409   Bachelors             13   \n",
       "\n",
       "        marital-status          occupation    relationship    race      sex  \\\n",
       "0        Never-married        Adm-clerical   Not-in-family   White     Male   \n",
       "1   Married-civ-spouse     Exec-managerial         Husband   White     Male   \n",
       "2             Divorced   Handlers-cleaners   Not-in-family   White     Male   \n",
       "3   Married-civ-spouse   Handlers-cleaners         Husband   Black     Male   \n",
       "4   Married-civ-spouse      Prof-specialty            Wife   Black   Female   \n",
       "\n",
       "   capital-gain  capital-loss  hours-per-week  native-country  salary  \n",
       "0          2174             0              40   United-States   <=50K  \n",
       "1             0             0              13   United-States   <=50K  \n",
       "2             0             0              40   United-States   <=50K  \n",
       "3             0             0              40   United-States   <=50K  \n",
       "4             0             0              40            Cuba   <=50K  "
      ]
     },
     "execution_count": 33,
     "metadata": {},
     "output_type": "execute_result"
    }
   ],
   "source": [
    "#importing the libraries\n",
    "import pandas as pd\n",
    "import matplotlib.pyplot as plt\n",
    "import numpy as np\n",
    "from scipy import stats\n",
    "import statistics\n",
    "import seaborn as sns\n",
    "\n",
    "#importing the data locally\n",
    "sal = pd.read_csv('../salary/salary.csv')\n",
    "\n",
    "sal.head()"
   ]
  },
  {
   "cell_type": "markdown",
   "metadata": {},
   "source": [
    "Let's inspect each column to find if there is some error or anomaly in the data.\n",
    "\n",
    "The classification prediction is going to be regarding salary. To be more precise, is the salary of more or less than 50k. So that is the feature we are going to start with."
   ]
  },
  {
   "cell_type": "markdown",
   "metadata": {},
   "source": [
    "### Salary\n",
    "\n",
    "First let's make this boolean variable (0 for <=50, 1 for >50)."
   ]
  },
  {
   "cell_type": "code",
   "execution_count": 2,
   "metadata": {},
   "outputs": [
    {
     "name": "stdout",
     "output_type": "stream",
     "text": [
      "[0 1]\n"
     ]
    }
   ],
   "source": [
    "sal['salary'] = sal['salary'].replace(to_replace = ' <=50K', value = 0)\n",
    "sal['salary'] = sal['salary'].replace(to_replace = ' >50K', value = 1)\n",
    "\n",
    "#checking if all values are 0 and 1\n",
    "print(sal['salary'].unique())"
   ]
  },
  {
   "cell_type": "markdown",
   "metadata": {},
   "source": [
    "We are continuing with the general view of the data. The first step in the cleaning process is to see if all the columns have an appropriate data type and remove the null values."
   ]
  },
  {
   "cell_type": "code",
   "execution_count": 3,
   "metadata": {},
   "outputs": [
    {
     "name": "stdout",
     "output_type": "stream",
     "text": [
      "<class 'pandas.core.frame.DataFrame'>\n",
      "RangeIndex: 32561 entries, 0 to 32560\n",
      "Data columns (total 15 columns):\n",
      " #   Column          Non-Null Count  Dtype \n",
      "---  ------          --------------  ----- \n",
      " 0   age             32561 non-null  int64 \n",
      " 1   workclass       32561 non-null  object\n",
      " 2   fnlwgt          32561 non-null  int64 \n",
      " 3   education       32561 non-null  object\n",
      " 4   education-num   32561 non-null  int64 \n",
      " 5   marital-status  32561 non-null  object\n",
      " 6   occupation      32561 non-null  object\n",
      " 7   relationship    32561 non-null  object\n",
      " 8   race            32561 non-null  object\n",
      " 9   sex             32561 non-null  object\n",
      " 10  capital-gain    32561 non-null  int64 \n",
      " 11  capital-loss    32561 non-null  int64 \n",
      " 12  hours-per-week  32561 non-null  int64 \n",
      " 13  native-country  32561 non-null  object\n",
      " 14  salary          32561 non-null  int64 \n",
      "dtypes: int64(7), object(8)\n",
      "memory usage: 3.7+ MB\n"
     ]
    },
    {
     "data": {
      "text/plain": [
       "age               0.0\n",
       "workclass         0.0\n",
       "fnlwgt            0.0\n",
       "education         0.0\n",
       "education-num     0.0\n",
       "marital-status    0.0\n",
       "occupation        0.0\n",
       "relationship      0.0\n",
       "race              0.0\n",
       "sex               0.0\n",
       "capital-gain      0.0\n",
       "capital-loss      0.0\n",
       "hours-per-week    0.0\n",
       "native-country    0.0\n",
       "salary            0.0\n",
       "dtype: float64"
      ]
     },
     "execution_count": 3,
     "metadata": {},
     "output_type": "execute_result"
    }
   ],
   "source": [
    "sal.info()\n",
    "sal.isnull().mean()"
   ]
  },
  {
   "cell_type": "markdown",
   "metadata": {},
   "source": [
    "At the first glance, it seems like the data is quite clean. Let's continue.\n",
    "\n",
    "### workclass and occupation"
   ]
  },
  {
   "cell_type": "code",
   "execution_count": 4,
   "metadata": {},
   "outputs": [
    {
     "data": {
      "text/plain": [
       "array([' State-gov', ' Self-emp-not-inc', ' Private', ' Federal-gov',\n",
       "       ' Local-gov', ' ?', ' Self-emp-inc', ' Without-pay',\n",
       "       ' Never-worked'], dtype=object)"
      ]
     },
     "execution_count": 4,
     "metadata": {},
     "output_type": "execute_result"
    }
   ],
   "source": [
    "sal['workclass'].unique()"
   ]
  },
  {
   "cell_type": "markdown",
   "metadata": {},
   "source": [
    "We have a ' ?' entry. It might be an error or a common input. Let's see what is happening in these entries."
   ]
  },
  {
   "cell_type": "code",
   "execution_count": 5,
   "metadata": {},
   "outputs": [
    {
     "name": "stdout",
     "output_type": "stream",
     "text": [
      "       age workclass  fnlwgt      education  education-num  \\\n",
      "27      54         ?  180211   Some-college             10   \n",
      "61      32         ?  293936        7th-8th              4   \n",
      "69      25         ?  200681   Some-college             10   \n",
      "77      67         ?  212759           10th              6   \n",
      "106     17         ?  304873           10th              6   \n",
      "...    ...       ...     ...            ...            ...   \n",
      "32530   35         ?  320084      Bachelors             13   \n",
      "32531   30         ?   33811      Bachelors             13   \n",
      "32539   71         ?  287372      Doctorate             16   \n",
      "32541   41         ?  202822        HS-grad              9   \n",
      "32542   72         ?  129912        HS-grad              9   \n",
      "\n",
      "               marital-status occupation    relationship                 race  \\\n",
      "27         Married-civ-spouse          ?         Husband   Asian-Pac-Islander   \n",
      "61      Married-spouse-absent          ?   Not-in-family                White   \n",
      "69              Never-married          ?       Own-child                White   \n",
      "77         Married-civ-spouse          ?         Husband                White   \n",
      "106             Never-married          ?       Own-child                White   \n",
      "...                       ...        ...             ...                  ...   \n",
      "32530      Married-civ-spouse          ?            Wife                White   \n",
      "32531           Never-married          ?   Not-in-family   Asian-Pac-Islander   \n",
      "32539      Married-civ-spouse          ?         Husband                White   \n",
      "32541               Separated          ?   Not-in-family                Black   \n",
      "32542      Married-civ-spouse          ?         Husband                White   \n",
      "\n",
      "           sex  capital-gain  capital-loss  hours-per-week  native-country  \\\n",
      "27        Male             0             0              60           South   \n",
      "61        Male             0             0              40               ?   \n",
      "69        Male             0             0              40   United-States   \n",
      "77        Male             0             0               2   United-States   \n",
      "106     Female         34095             0              32   United-States   \n",
      "...        ...           ...           ...             ...             ...   \n",
      "32530   Female             0             0              55   United-States   \n",
      "32531   Female             0             0              99   United-States   \n",
      "32539     Male             0             0              10   United-States   \n",
      "32541   Female             0             0              32   United-States   \n",
      "32542     Male             0             0              25   United-States   \n",
      "\n",
      "       salary  \n",
      "27          1  \n",
      "61          0  \n",
      "69          0  \n",
      "77          0  \n",
      "106         0  \n",
      "...       ...  \n",
      "32530       1  \n",
      "32531       0  \n",
      "32539       1  \n",
      "32541       0  \n",
      "32542       0  \n",
      "\n",
      "[1836 rows x 15 columns]\n"
     ]
    }
   ],
   "source": [
    "print(sal.loc[sal['workclass'] == ' ?'])"
   ]
  },
  {
   "cell_type": "markdown",
   "metadata": {},
   "source": [
    "There are 1836 entries like that. Let's treat them as a null values. We can also see that the 'occupation' column has the same values so let's get rid of all ' ?' in the dataset."
   ]
  },
  {
   "cell_type": "code",
   "execution_count": 6,
   "metadata": {
    "scrolled": true
   },
   "outputs": [
    {
     "data": {
      "text/plain": [
       "age               0.000000\n",
       "workclass         0.056386\n",
       "fnlwgt            0.000000\n",
       "education         0.000000\n",
       "education-num     0.000000\n",
       "marital-status    0.000000\n",
       "occupation        0.056601\n",
       "relationship      0.000000\n",
       "race              0.000000\n",
       "sex               0.000000\n",
       "capital-gain      0.000000\n",
       "capital-loss      0.000000\n",
       "hours-per-week    0.000000\n",
       "native-country    0.017905\n",
       "salary            0.000000\n",
       "dtype: float64"
      ]
     },
     "execution_count": 6,
     "metadata": {},
     "output_type": "execute_result"
    }
   ],
   "source": [
    "for column in sal:\n",
    "    sal.loc[sal[column] == ' ?', column] = np.nan\n",
    "    \n",
    "#checking the state of null values\n",
    "sal.isnull().mean()"
   ]
  },
  {
   "cell_type": "markdown",
   "metadata": {},
   "source": [
    "Now we have a better view of null values. Let's dig deeper into each column with null values and resolve the problem.\n",
    "\n",
    "I am going to approach it by making columns 'workclass' and 'occupation' boolean variables, where the value is going to be True if there is a value and False if it is NaN (or in our case ' ?'). This will help me to try and see if there is an obvious relationship between having the value and salary smaller or greater than 50k."
   ]
  },
  {
   "cell_type": "code",
   "execution_count": 7,
   "metadata": {},
   "outputs": [
    {
     "data": {
      "image/png": "[encoded data removed]",
      "text/plain": [
       "<Figure size 720x504 with 2 Axes>"
      ]
     },
     "metadata": {
      "needs_background": "light"
     },
     "output_type": "display_data"
    }
   ],
   "source": [
    "sal['workclass'] = (sal['workclass'].notnull()).astype('int')\n",
    "sal['occupation'] = (sal['occupation'].notnull()).astype('int')\n",
    "\n",
    "\n",
    "#splitting into two datasets one with salary <50k and one with >=50k\n",
    "sal_0 = sal[sal['salary'] == 0]\n",
    "sal_1 = sal[sal['salary'] == 1]\n",
    "\n",
    "#plotting the null/not null relationship\n",
    "fig = plt.subplots(figsize =(10, 7))\n",
    "plt.subplot(1, 2, 1)\n",
    "plt.bar(sal_0['workclass'].unique(), sal_0['workclass'].value_counts().to_numpy(), width = 0.25, label = '<50k')\n",
    "plt.bar(sal_1['workclass'].unique(), sal_1['workclass'].value_counts().to_numpy(),  bottom=sal_0['workclass'].value_counts().to_numpy(), width = 0.25, label = '>=50k')\n",
    "plt.title('Workclass')\n",
    "plt.xticks([0, 1], ['Null', 'Not null'])\n",
    "\n",
    "\n",
    "plt.subplot(1, 2, 2)\n",
    "plt.bar(sal_0['occupation'].unique(), sal_0['occupation'].value_counts().to_numpy(), width = 0.25, label = '<50k')\n",
    "plt.bar(sal_1['occupation'].unique(), sal_1['occupation'].value_counts().to_numpy(),  bottom=sal_0['occupation'].value_counts().to_numpy(), width = 0.25, label = '>=50k')\n",
    "plt.title('Occupation')\n",
    "plt.xticks([0, 1], ['Null', 'Not null'])\n",
    "plt.legend(['<50k', '>=50k'], loc='lower left', bbox_to_anchor=(0.9, 1))\n",
    "\n",
    "\n",
    "plt.show()\n"
   ]
  },
  {
   "cell_type": "markdown",
   "metadata": {},
   "source": [
    "These plots are not telling us a lot by themselves. However, the similarity between the two is pretty much obvious. It raises suspicion if the columns are correlated. If yes we could delete one while using both of them for training the machine learning model would be redundant."
   ]
  },
  {
   "cell_type": "code",
   "execution_count": 8,
   "metadata": {},
   "outputs": [
    {
     "data": {
      "text/plain": [
       "(9.0, 0.0)"
      ]
     },
     "execution_count": 8,
     "metadata": {},
     "output_type": "execute_result"
    },
    {
     "data": {
      "image/png": "[encoded data removed]",
      "text/plain": [
       "<Figure size 648x504 with 2 Axes>"
      ]
     },
     "metadata": {
      "needs_background": "light"
     },
     "output_type": "display_data"
    }
   ],
   "source": [
    "#plotting the correlation matrix\n",
    "fig = plt.subplots(figsize =(9, 7))\n",
    "sal_corr = sal.corr()\n",
    "ax = sns.heatmap(sal_corr, vmax=1, vmin=-1, annot=True)\n",
    "bottom, top = ax.get_ylim()\n",
    "ax.set_ylim(bottom + 0.5, top - 0.5)"
   ]
  },
  {
   "cell_type": "markdown",
   "metadata": {},
   "source": [
    "Now we can see that 'occupation' and 'workclass' are 1-1, so we can drop one of them."
   ]
  },
  {
   "cell_type": "code",
   "execution_count": 9,
   "metadata": {},
   "outputs": [],
   "source": [
    "sal = sal.drop('occupation', axis = 1)"
   ]
  },
  {
   "cell_type": "markdown",
   "metadata": {},
   "source": [
    "### native-country\n",
    "\n",
    "Regarding the column 'native-country', there are not as many false values as with the other two columns, so I decided to just get rid of the unwanted rows. Since that is the only column left with NaN values, we can just get rid of all nulls."
   ]
  },
  {
   "cell_type": "code",
   "execution_count": 10,
   "metadata": {
    "scrolled": true
   },
   "outputs": [
    {
     "data": {
      "text/plain": [
       "age               0.0\n",
       "workclass         0.0\n",
       "fnlwgt            0.0\n",
       "education         0.0\n",
       "education-num     0.0\n",
       "marital-status    0.0\n",
       "relationship      0.0\n",
       "race              0.0\n",
       "sex               0.0\n",
       "capital-gain      0.0\n",
       "capital-loss      0.0\n",
       "hours-per-week    0.0\n",
       "native-country    0.0\n",
       "salary            0.0\n",
       "dtype: float64"
      ]
     },
     "execution_count": 10,
     "metadata": {},
     "output_type": "execute_result"
    }
   ],
   "source": [
    "sal = sal.dropna()\n",
    "sal.isnull().mean()"
   ]
  },
  {
   "cell_type": "markdown",
   "metadata": {},
   "source": [
    "### fnlwgt\n",
    "\n",
    "Fnlwgt or final weight stands for a weight appointed to each row. According to the [report](https://cseweb.ucsd.edu//classes/sp15/cse190-c/reports/sp15/048.pdf), each row should be multiplied by the fnlwgt factor. That would make really big data so I decided to drop that attribute and with that remove the duplicates of the data."
   ]
  },
  {
   "cell_type": "code",
   "execution_count": 11,
   "metadata": {},
   "outputs": [],
   "source": [
    "sal = sal.drop('fnlwgt', axis=1)\n",
    "\n",
    "sal = sal.drop_duplicates()"
   ]
  },
  {
   "cell_type": "markdown",
   "metadata": {},
   "source": [
    "The next step in data cleaning is to check for outliers. We can do that for numerical variables such as 'capital-gain', 'capital-loss', 'hours-per-week', and 'age'.\n",
    "\n",
    "### capital-gain and capital-loss"
   ]
  },
  {
   "cell_type": "code",
   "execution_count": 12,
   "metadata": {
    "scrolled": false
   },
   "outputs": [
    {
     "data": {
      "image/png": "[encoded data removed]",
      "text/plain": [
       "<Figure size 720x504 with 2 Axes>"
      ]
     },
     "metadata": {
      "needs_background": "light"
     },
     "output_type": "display_data"
    }
   ],
   "source": [
    "#plotting the boxplot\n",
    "fig = plt.subplots(figsize =(10, 7))\n",
    "plt.subplot(1,2,1)\n",
    "#sns.boxplot(data=sal, x='salary', y='capital-gain')\n",
    "plt.boxplot(sal['capital-gain'])\n",
    "plt.title('capital-gain')\n",
    "\n",
    "plt.subplot(1,2,2)\n",
    "#sns.boxplot(data=sal, x='salary', y='capital-loss')\n",
    "plt.boxplot(sal['capital-loss'])\n",
    "plt.title('capital-loss')\n",
    "plt.show()"
   ]
  },
  {
   "cell_type": "markdown",
   "metadata": {},
   "source": [
    "These are very interesting features to deal with regarding the outliers. As we can see the ranges are quite big, and it seems like there are a lot of outliers. I would assume that these outliers are realistic, while there might be people with extremely high or low gain/loss.\n",
    "So I decided for ML predictions to use two datasets: one where I leave outliers of these two features and one where I remove them. It will be interesting to compare the results of accuracy so we might get a better picture of how these outliers influence the prediction."
   ]
  },
  {
   "cell_type": "code",
   "execution_count": 13,
   "metadata": {},
   "outputs": [],
   "source": [
    "#computing the outliers for 'capital-gain'\n",
    "q1=sal['capital-gain'].quantile(0.25)\n",
    "q3=sal['capital-gain'].quantile(0.75)\n",
    "IQR=q3-q1\n",
    "outliers = sal[((sal['capital-gain']<(q1-1.5*IQR)) | (sal['capital-gain']>(q3+1.5*IQR)))]\n",
    "\n",
    "sal_out = sal\n",
    "\n",
    "#removing the outliers in the original sal dataframe\n",
    "sal = pd.concat([sal,outliers]).drop_duplicates(keep=False)"
   ]
  },
  {
   "cell_type": "code",
   "execution_count": 14,
   "metadata": {},
   "outputs": [],
   "source": [
    "#computing the outliers for 'capital-loss'\n",
    "q1=sal['capital-loss'].quantile(0.25)\n",
    "q3=sal['capital-loss'].quantile(0.75)\n",
    "IQR=q3-q1\n",
    "outliers = sal[((sal['capital-loss']<(q1-1.5*IQR)) | (sal['capital-loss']>(q3+1.5*IQR)))]\n",
    "\n",
    "#removing the outliers in the original sal dataframe\n",
    "sal = pd.concat([sal,outliers]).drop_duplicates(keep=False)"
   ]
  },
  {
   "cell_type": "markdown",
   "metadata": {},
   "source": [
    "### hours-per-week"
   ]
  },
  {
   "cell_type": "code",
   "execution_count": 15,
   "metadata": {},
   "outputs": [
    {
     "name": "stdout",
     "output_type": "stream",
     "text": [
      "[13. 40. 16. 45. 80. 30. 50. 35. 60. 20. 52. 44. 15. 25. 43. 38. 55. 48.\n",
      " 58. 32. 70.  2. 22. 56. 41. 36. 24. 46. 42. 12. 65.  1. 28. 10. 34. 75.\n",
      " 33. 54.  8. 64. 19. 72.  5.  6.  9. 37. 21. 26. 14.  4. 18.  7. 99. 47.\n",
      " 53. 39. 62. 59. 57. 78. 90. 66. 11. 49. 84.  3. 17. 68. 27. 98. 85. 31.\n",
      " 51. 63. 23. 87. 88. 73. 89. 97. 94. 29. 77. 96. 82. 86. 91. 81. 76. 92.\n",
      " 61. 74. 95. 67.]\n"
     ]
    },
    {
     "data": {
      "image/png": "[encoded data removed]",
      "text/plain": [
       "<Figure size 720x504 with 1 Axes>"
      ]
     },
     "metadata": {
      "needs_background": "light"
     },
     "output_type": "display_data"
    }
   ],
   "source": [
    "print(sal['hours-per-week'].unique())\n",
    "\n",
    "fig = plt.figure(figsize =(10, 7))\n",
    "plt.boxplot(sal['hours-per-week'])\n",
    "plt.show()"
   ]
  },
  {
   "cell_type": "markdown",
   "metadata": {},
   "source": [
    "All the values seem okay. \n",
    "These outliers I will remove."
   ]
  },
  {
   "cell_type": "code",
   "execution_count": 16,
   "metadata": {
    "scrolled": false
   },
   "outputs": [
    {
     "data": {
      "text/plain": [
       "{'whiskers': [<matplotlib.lines.Line2D at 0x195b4ebae88>,\n",
       "  <matplotlib.lines.Line2D at 0x195b4ebaf88>],\n",
       " 'caps': [<matplotlib.lines.Line2D at 0x195b4ebd9c8>,\n",
       "  <matplotlib.lines.Line2D at 0x195b4ebdf08>],\n",
       " 'boxes': [<matplotlib.lines.Line2D at 0x195b4eba688>],\n",
       " 'medians': [<matplotlib.lines.Line2D at 0x195b4ebdb48>],\n",
       " 'fliers': [<matplotlib.lines.Line2D at 0x195b4ec4a08>],\n",
       " 'means': []}"
      ]
     },
     "execution_count": 16,
     "metadata": {},
     "output_type": "execute_result"
    },
    {
     "data": {
      "image/png": "[encoded data removed]",
      "text/plain": [
       "<Figure size 720x504 with 1 Axes>"
      ]
     },
     "metadata": {
      "needs_background": "light"
     },
     "output_type": "display_data"
    }
   ],
   "source": [
    "#computing the outliers for 'capital-gain'\n",
    "q1=sal['hours-per-week'].quantile(0.25)\n",
    "q3=sal['hours-per-week'].quantile(0.75)\n",
    "IQR=q3-q1\n",
    "outliers = sal[((sal['hours-per-week']<(q1-1.5*IQR)) | (sal['hours-per-week']>(q3+1.5*IQR)))]\n",
    "\n",
    "\n",
    "#removing the outliers in the original sal dataframe\n",
    "sal = pd.concat([sal,outliers]).drop_duplicates(keep=False)\n",
    "sal_out = pd.concat([sal,outliers]).drop_duplicates(keep=False)\n",
    "\n",
    "fig = plt.subplots(figsize =(10, 7))\n",
    "plt.boxplot(sal['hours-per-week'])\n"
   ]
  },
  {
   "cell_type": "markdown",
   "metadata": {},
   "source": [
    "\n",
    "### Age"
   ]
  },
  {
   "cell_type": "code",
   "execution_count": 17,
   "metadata": {
    "scrolled": false
   },
   "outputs": [
    {
     "data": {
      "image/png": "[encoded data removed]",
      "text/plain": [
       "<Figure size 720x504 with 1 Axes>"
      ]
     },
     "metadata": {
      "needs_background": "light"
     },
     "output_type": "display_data"
    }
   ],
   "source": [
    "sal['age'].unique()\n",
    "\n",
    "fig = plt.figure(figsize =(10, 7))\n",
    "plt.boxplot(sal['age'])\n",
    "plt.show()"
   ]
  },
  {
   "cell_type": "markdown",
   "metadata": {},
   "source": [
    "As with the 'hours-per-week', I will remove the outliers."
   ]
  },
  {
   "cell_type": "code",
   "execution_count": 18,
   "metadata": {},
   "outputs": [
    {
     "data": {
      "image/png": "[encoded data removed]",
      "text/plain": [
       "<Figure size 720x504 with 1 Axes>"
      ]
     },
     "metadata": {
      "needs_background": "light"
     },
     "output_type": "display_data"
    }
   ],
   "source": [
    "q1=sal['age'].quantile(0.25)\n",
    "q3=sal['age'].quantile(0.75)\n",
    "IQR=q3-q1\n",
    "\n",
    "outliers = sal[((sal['age']<(q1-1.5*IQR)) | (sal['age']>(q3+1.5*IQR)))]\n",
    "\n",
    "#removing the outliers in the original sal dataframe\n",
    "sal = pd.concat([sal,outliers]).drop_duplicates(keep=False)\n",
    "sal_out = pd.concat([sal,outliers]).drop_duplicates(keep=False)\n",
    "\n",
    "fig = plt.figure(figsize =(10, 7))\n",
    "plt.boxplot(sal['age'])\n",
    "plt.show()"
   ]
  },
  {
   "cell_type": "markdown",
   "metadata": {},
   "source": [
    "Now that we cleaned 'age' from outliers let's see how does the age influence the salary."
   ]
  },
  {
   "cell_type": "code",
   "execution_count": 19,
   "metadata": {},
   "outputs": [
    {
     "data": {
      "image/png": "[encoded data removed]",
      "text/plain": [
       "<Figure size 1080x504 with 1 Axes>"
      ]
     },
     "metadata": {
      "needs_background": "light"
     },
     "output_type": "display_data"
    }
   ],
   "source": [
    "sal['age'] = sal['age'].astype(int)\n",
    "\n",
    "plt.figure(figsize=(15,7))\n",
    "ax = sns.countplot(data=sal, x='age', hue='salary')\n",
    "ax.set_xticklabels(ax.get_xticklabels(), rotation=90, ha=\"right\")\n",
    "plt.legend(['<50k', '>=50k'])\n",
    "plt.show()"
   ]
  },
  {
   "cell_type": "markdown",
   "metadata": {},
   "source": [
    "Mostly young and older people have lower (<50k) salaries, while it's people around 40 years old that might get bigger salaries (>=50k) the most."
   ]
  },
  {
   "cell_type": "markdown",
   "metadata": {},
   "source": [
    "### education and education-num\n",
    "\n",
    "These two columns are related, so I am choosing to work with only the numerical one."
   ]
  },
  {
   "cell_type": "code",
   "execution_count": 20,
   "metadata": {},
   "outputs": [
    {
     "data": {
      "image/png": "[encoded data removed]",
      "text/plain": [
       "<Figure size 648x504 with 1 Axes>"
      ]
     },
     "metadata": {
      "needs_background": "light"
     },
     "output_type": "display_data"
    }
   ],
   "source": [
    "sal = sal.drop('education-num', axis=1)\n",
    "\n",
    "\n",
    "plt.figure(figsize=(9,7))\n",
    "ax = sns.countplot(data=sal, x='education', hue='salary')\n",
    "ax.set_xticklabels(ax.get_xticklabels(), rotation=90, ha=\"right\")\n",
    "plt.legend(['<50k', '>=50k'])\n",
    "plt.show()"
   ]
  },
  {
   "cell_type": "markdown",
   "metadata": {},
   "source": [
    "The outcome is as expected. People with higher education like masters, prof-school and doctorate will have a salary greater or equal to 50k while the ones with the lower education will earn less than 50k."
   ]
  },
  {
   "cell_type": "markdown",
   "metadata": {},
   "source": [
    "For the last three features I will check if their values make sense.\n",
    "\n",
    "### marital-status"
   ]
  },
  {
   "cell_type": "code",
   "execution_count": 21,
   "metadata": {},
   "outputs": [
    {
     "data": {
      "text/plain": [
       "array([' Divorced', ' Married-civ-spouse', ' Never-married', ' Separated',\n",
       "       ' Married-AF-spouse', ' Widowed', ' Married-spouse-absent'],\n",
       "      dtype=object)"
      ]
     },
     "execution_count": 21,
     "metadata": {},
     "output_type": "execute_result"
    }
   ],
   "source": [
    "sal['marital-status'].unique()"
   ]
  },
  {
   "cell_type": "markdown",
   "metadata": {},
   "source": [
    "### relationship"
   ]
  },
  {
   "cell_type": "code",
   "execution_count": 22,
   "metadata": {},
   "outputs": [
    {
     "data": {
      "text/plain": [
       "array([' Not-in-family', ' Husband', ' Wife', ' Own-child', ' Unmarried',\n",
       "       ' Other-relative'], dtype=object)"
      ]
     },
     "execution_count": 22,
     "metadata": {},
     "output_type": "execute_result"
    }
   ],
   "source": [
    "sal['relationship'].unique()"
   ]
  },
  {
   "cell_type": "markdown",
   "metadata": {},
   "source": [
    "### race"
   ]
  },
  {
   "cell_type": "code",
   "execution_count": 23,
   "metadata": {
    "scrolled": false
   },
   "outputs": [
    {
     "data": {
      "text/plain": [
       "array([' White', ' Black', ' Asian-Pac-Islander', ' Amer-Indian-Eskimo',\n",
       "       ' Other'], dtype=object)"
      ]
     },
     "execution_count": 23,
     "metadata": {},
     "output_type": "execute_result"
    }
   ],
   "source": [
    "sal['race'].unique()"
   ]
  },
  {
   "cell_type": "markdown",
   "metadata": {},
   "source": [
    "## Data prep\n",
    "\n",
    "To prep the data for training it on a ML model, we need to convert categorical variables into indicator variables.\n",
    "\n",
    "Also, I chose to split the data into train and test sizes with a ratio of 80/20.\n"
   ]
  },
  {
   "cell_type": "code",
   "execution_count": 24,
   "metadata": {},
   "outputs": [],
   "source": [
    "from sklearn.model_selection import train_test_split\n",
    "\n",
    "features = []\n",
    "for column in sal:\n",
    "    if (column == 'salary'):\n",
    "        continue\n",
    "    features.append(column)\n",
    "\n",
    "\n",
    "label = []\n",
    "score = []\n",
    "\n",
    "X = pd.get_dummies(sal[features])\n",
    "y = sal['salary']\n",
    "X_train, X_test, y_train, y_test = train_test_split(X, y, test_size = 0.20, random_state = 3)\n",
    "\n",
    "X_out = pd.get_dummies(sal_out[features])\n",
    "y_out = sal_out['salary']\n",
    "X_train_out, X_test_out, y_train_out, y_test_out = train_test_split(X_out, y_out, test_size = 0.20, random_state = 3)"
   ]
  },
  {
   "cell_type": "markdown",
   "metadata": {},
   "source": [
    "## ML models\n",
    "\n",
    "Let's train the data for each model and predict the values for the test data. In the end, we compare the results of each model in both cases where we left the outliers for the capital loss and gain and the one where we removed them.\n",
    "\n",
    "### KNN"
   ]
  },
  {
   "cell_type": "code",
   "execution_count": 35,
   "metadata": {},
   "outputs": [],
   "source": [
    "from sklearn.neighbors import KNeighborsClassifier\n",
    "from sklearn import metrics\n",
    "\n",
    "from warnings import filterwarnings\n",
    "filterwarnings(action='ignore', category=DeprecationWarning, message='`np.int` is a deprecated alias')\n",
    "filterwarnings(action='ignore', category=DeprecationWarning, message='`np.float` is a deprecated alias')\n",
    "\n",
    "data = []\n",
    "\n",
    "def knneig(X_train,y_train, X_test, y_test):\n",
    "    score_knn = 0\n",
    "    for i in range (1, 11):\n",
    "        knn = KNeighborsClassifier(n_neighbors = (2*i-1))\n",
    "        knn.fit(X_train,y_train)\n",
    "        scr = knn.score(X_test,y_test)\n",
    "        if score_knn <= scr:\n",
    "            score_knn = scr\n",
    "    return score_knn\n",
    "\n",
    "data.append(['KNN', knneig(X_train,y_train, X_test, y_test), knneig(X_train_out,y_train_out, X_test_out, y_test_out)])\n"
   ]
  },
  {
   "cell_type": "markdown",
   "metadata": {},
   "source": [
    "### Decision Tree Classifier"
   ]
  },
  {
   "cell_type": "code",
   "execution_count": 36,
   "metadata": {},
   "outputs": [],
   "source": [
    "from sklearn.tree import DecisionTreeClassifier\n",
    "\n",
    "\n",
    "def dectc (X_train, y_train, X_test, y_test):\n",
    "    score_dtc = 0\n",
    "    for i in range (1, 20):\n",
    "        dtc = DecisionTreeClassifier(max_depth = i)\n",
    "        dtc.fit(X_train,y_train)\n",
    "        y_pred = dtc.predict(X_test)\n",
    "        if score_dtc <= metrics.accuracy_score(y_test,y_pred):\n",
    "            score_dtc = metrics.accuracy_score(y_test,y_pred)\n",
    "    return score_dtc\n",
    "        \n",
    "data.append(['Decision Tree Classifier', dectc(X_train, y_train, X_test, y_test), dectc(X_train_out, y_train_out, X_test_out, y_test_out)])"
   ]
  },
  {
   "cell_type": "markdown",
   "metadata": {},
   "source": [
    "### Logistic regression"
   ]
  },
  {
   "cell_type": "code",
   "execution_count": 37,
   "metadata": {},
   "outputs": [],
   "source": [
    "from sklearn.linear_model import LogisticRegression\n",
    "\n",
    "def logreg (X_train, y_train, X_test, y_test):\n",
    "    lr = LogisticRegression(solver='liblinear', random_state=1)\n",
    "    lr.fit(X_train, y_train)\n",
    "    y_pred = lr.predict(X_test)\n",
    "    score_lr = metrics.accuracy_score(y_test, y_pred)\n",
    "    return score_lr\n",
    "\n",
    "data.append(['Logistic regression', logreg(X_train, y_train, X_test, y_test), logreg(X_train_out, y_train_out, X_test_out, y_test_out)])"
   ]
  },
  {
   "cell_type": "markdown",
   "metadata": {},
   "source": [
    "### Naive Bayes Classifier"
   ]
  },
  {
   "cell_type": "code",
   "execution_count": 38,
   "metadata": {},
   "outputs": [],
   "source": [
    "from sklearn.naive_bayes import GaussianNB\n",
    "\n",
    "def naibc (X_train, y_train, X_test, y_test):\n",
    "    nbc = GaussianNB()\n",
    "    nbc.fit(X_train, y_train)\n",
    "    y_pred = nbc.predict(X_test)\n",
    "    score_nbc = metrics.accuracy_score(y_test, y_pred)\n",
    "    return(score_nbc)\n",
    "\n",
    "data.append(['Naive Bayes Classifier', naibc(X_train, y_train, X_test, y_test), naibc(X_train_out, y_train_out, X_test_out, y_test_out)])"
   ]
  },
  {
   "cell_type": "markdown",
   "metadata": {},
   "source": [
    "### Support Vector Machines\n",
    "\n",
    "not sure if lineary separable so check linear and rbf"
   ]
  },
  {
   "cell_type": "code",
   "execution_count": 39,
   "metadata": {},
   "outputs": [],
   "source": [
    "from sklearn.svm import SVC\n",
    "\n",
    "def supvm (X_train, y_train, X_test, y_test):\n",
    "    score_svm = 0\n",
    "    svm = SVC(gamma = 'auto')\n",
    "    svm.fit(X_train, y_train)\n",
    "    y_pred = svm.predict(X_test)\n",
    "    if score_svm < metrics.accuracy_score(y_test, y_pred):\n",
    "        score_svm = metrics.accuracy_score(y_test, y_pred)\n",
    "    return (score_svm)\n",
    "\n",
    "data.append(['Support Vector Machine', supvm(X_train, y_train, X_test, y_test), supvm(X_train_out, y_train_out, X_test_out, y_test_out)])"
   ]
  },
  {
   "cell_type": "code",
   "execution_count": 40,
   "metadata": {},
   "outputs": [
    {
     "name": "stdout",
     "output_type": "stream",
     "text": [
      "╒══════════════════════════╤═══════════════╤════════════╕\n",
      "│ ML model                 │   no outliers │   outliers │\n",
      "╞══════════════════════════╪═══════════════╪════════════╡\n",
      "│ KNN                      │      0.814475 │   0.824159 │\n",
      "├──────────────────────────┼───────────────┼────────────┤\n",
      "│ Decision Tree Classifier │      0.837863 │   0.846493 │\n",
      "├──────────────────────────┼───────────────┼────────────┤\n",
      "│ Logistic regression      │      0.84134  │   0.853413 │\n",
      "├──────────────────────────┼───────────────┼────────────┤\n",
      "│ Naive Bayes Classifier   │      0.542351 │   0.555521 │\n",
      "├──────────────────────────┼───────────────┼────────────┤\n",
      "│ Support Vector Machine   │      0.818584 │   0.832652 │\n",
      "╘══════════════════════════╧═══════════════╧════════════╛\n"
     ]
    },
    {
     "data": {
      "text/plain": [
       "<matplotlib.legend.Legend at 0x195b50fe788>"
      ]
     },
     "execution_count": 40,
     "metadata": {},
     "output_type": "execute_result"
    },
    {
     "data": {
      "image/png": "[encoded data removed]",
      "text/plain": [
       "<Figure size 720x504 with 1 Axes>"
      ]
     },
     "metadata": {
      "needs_background": "light"
     },
     "output_type": "display_data"
    }
   ],
   "source": [
    "from tabulate import tabulate\n",
    "col_names = ['ML model', 'no outliers', 'outliers']\n",
    "print(tabulate(data, headers=col_names, tablefmt=\"fancy_grid\"))\n",
    "\n",
    "model =[]\n",
    "no_out = []\n",
    "out = []\n",
    "for i in range (0,5):\n",
    "    model.append(data[i][0])\n",
    "    no_out.append(data[i][1])\n",
    "    out.append(data[i][2])\n",
    "    \n",
    "\n",
    "fig = plt.figure(figsize =(10, 7))\n",
    "plt.plot(model, no_out, label='no outliers')\n",
    "plt.plot(model, out, label='with outliers')\n",
    "plt.legend()"
   ]
  },
  {
   "cell_type": "markdown",
   "metadata": {},
   "source": [
    "## Conclusion\n",
    "\n",
    "We can see now that not dropping the outliers for capital-loss and capital-gain was a good choice, while it has slightly better prediction results than the one with dropped outliers.\n",
    "\n",
    "In conclusion, the best performance has logistic regression (>85%), with the training data where we left the outliers of the capital gain and loss.\n",
    "\n",
    "Thank you for the read. Please do not hesitate to let me know your comments or corrections :)"
   ]
  }
 ],
 "metadata": {
  "kernelspec": {
   "display_name": "Python 3",
   "language": "python",
   "name": "python3"
  },
  "language_info": {
   "codemirror_mode": {
    "name": "ipython",
    "version": 3
   },
   "file_extension": ".py",
   "mimetype": "text/x-python",
   "name": "python",
   "nbconvert_exporter": "python",
   "pygments_lexer": "ipython3",
   "version": "3.7.4"
  }
 },
 "nbformat": 4,
 "nbformat_minor": 2
}
